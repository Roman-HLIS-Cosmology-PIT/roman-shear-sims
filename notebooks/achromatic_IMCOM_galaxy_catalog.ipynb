{
 "cells": [
  {
   "cell_type": "code",
   "execution_count": 1,
   "id": "1608165e",
   "metadata": {},
   "outputs": [],
   "source": [
    "import numpy as np\n",
    "\n",
    "from roman_shear_sims.sim import make_sim\n",
    "from roman_shear_sims.catalog import GalaxyCatalog\n",
    "from roman_shear_sims.psf_makers import PSFMaker\n",
    "from roman_shear_sims.constant import IMCOM_BLOCK_SIZE"
   ]
  },
  {
   "cell_type": "code",
   "execution_count": 2,
   "id": "e9de8143",
   "metadata": {},
   "outputs": [],
   "source": [
    "import matplotlib.pyplot as plt"
   ]
  },
  {
   "cell_type": "code",
   "execution_count": 3,
   "id": "c4eba480",
   "metadata": {},
   "outputs": [],
   "source": [
    "seed = 4242\n",
    "rng = np.random.RandomState(seed)\n",
    "\n",
    "simu_type = \"imcom\"\n",
    "simu_size = IMCOM_BLOCK_SIZE\n",
    "bands = [\"Y106\", \"J129\", \"H158\"]\n",
    "psf_type = simu_type\n",
    "layout_kind = \"grid\"\n",
    "chromatic=False\n",
    "spacing = 12.\n",
    "buff = 200\n",
    "noise_sig = 1e-5\n",
    "n_gal = None\n",
    "gal_mag = 25\n",
    "gal_hlr = 0.2\n",
    "flux_range = [100, 1_00]\n",
    "\n",
    "g1_in = 0.02\n",
    "g2_in = 0.0\n",
    "\n",
    "n_epochs = 1\n",
    "\n",
    "exp_time=107"
   ]
  },
  {
   "cell_type": "markdown",
   "id": "e8ac32a4",
   "metadata": {},
   "source": [
    "### Set Galaxy Catalog"
   ]
  },
  {
   "cell_type": "code",
   "execution_count": 4,
   "id": "7e82c0ab",
   "metadata": {},
   "outputs": [],
   "source": [
    "galaxy_catalog = GalaxyCatalog(\n",
    "    simu_size,\n",
    "    seed,\n",
    "    simu_type=simu_type,\n",
    "    flux_range=flux_range,\n",
    "    layout_kind=layout_kind,\n",
    "    exp_time=exp_time,\n",
    "    spacing=spacing,\n",
    "    buffer=buff,\n",
    "    n_gal=n_gal,\n",
    "    chromatic=chromatic,\n",
    ")"
   ]
  },
  {
   "cell_type": "markdown",
   "id": "bc06ca1d",
   "metadata": {},
   "source": [
    "### Set the PSF"
   ]
  },
  {
   "cell_type": "code",
   "execution_count": 5,
   "id": "4cda07f6",
   "metadata": {},
   "outputs": [],
   "source": [
    "psf_maker = PSFMaker(\n",
    "    psf_type=psf_type,\n",
    "    chromatic=chromatic,\n",
    ")"
   ]
  },
  {
   "cell_type": "markdown",
   "id": "c3cc7a46",
   "metadata": {},
   "source": [
    "### Run the simulation"
   ]
  },
  {
   "cell_type": "code",
   "execution_count": 6,
   "id": "84b55c2f",
   "metadata": {},
   "outputs": [
    {
     "data": {
      "application/vnd.jupyter.widget-view+json": {
       "model_id": "b64818a7c816443980d4968b83af613c",
       "version_major": 2,
       "version_minor": 0
      },
      "text/plain": [
       "Band loop:   0%|          | 0/3 [00:00<?, ?it/s]"
      ]
     },
     "metadata": {},
     "output_type": "display_data"
    },
    {
     "data": {
      "application/vnd.jupyter.widget-view+json": {
       "model_id": "6bc254067e28480091f0db42fefe7a16",
       "version_major": 2,
       "version_minor": 0
      },
      "text/plain": [
       "Epoch loop:   0%|          | 0/1 [00:00<?, ?it/s]"
      ]
     },
     "metadata": {},
     "output_type": "display_data"
    },
    {
     "data": {
      "application/vnd.jupyter.widget-view+json": {
       "model_id": "3ba79197c3264cd299ee17073df0ba65",
       "version_major": 2,
       "version_minor": 0
      },
      "text/plain": [
       "Obj loop:   0%|          | 0/64 [00:00<?, ?it/s]"
      ]
     },
     "metadata": {},
     "output_type": "display_data"
    },
    {
     "data": {
      "application/vnd.jupyter.widget-view+json": {
       "model_id": "7345c8c8518d4569805d0a91979dc683",
       "version_major": 2,
       "version_minor": 0
      },
      "text/plain": [
       "Epoch loop:   0%|          | 0/1 [00:00<?, ?it/s]"
      ]
     },
     "metadata": {},
     "output_type": "display_data"
    },
    {
     "data": {
      "application/vnd.jupyter.widget-view+json": {
       "model_id": "0ea67915395f47908b7e32f29fcfc24b",
       "version_major": 2,
       "version_minor": 0
      },
      "text/plain": [
       "Obj loop:   0%|          | 0/64 [00:00<?, ?it/s]"
      ]
     },
     "metadata": {},
     "output_type": "display_data"
    },
    {
     "data": {
      "application/vnd.jupyter.widget-view+json": {
       "model_id": "16ce1421ec44436bb2962e1b76d9a9fb",
       "version_major": 2,
       "version_minor": 0
      },
      "text/plain": [
       "Epoch loop:   0%|          | 0/1 [00:00<?, ?it/s]"
      ]
     },
     "metadata": {},
     "output_type": "display_data"
    },
    {
     "data": {
      "application/vnd.jupyter.widget-view+json": {
       "model_id": "2cba8aae11ad4562b08c49194a3ecb71",
       "version_major": 2,
       "version_minor": 0
      },
      "text/plain": [
       "Obj loop:   0%|          | 0/64 [00:00<?, ?it/s]"
      ]
     },
     "metadata": {},
     "output_type": "display_data"
    }
   ],
   "source": [
    "simu_dict = make_sim(\n",
    "    rng,\n",
    "    galaxy_catalog,\n",
    "    psf_maker,\n",
    "    simu_type=simu_type,\n",
    "    n_epochs=n_epochs,\n",
    "    exp_time=exp_time,\n",
    "    cell_size_pix=simu_size,\n",
    "    bands=bands,\n",
    "    g1=g1_in,\n",
    "    g2=g2_in,\n",
    "    chromatic=chromatic,\n",
    "    simple_noise=True,\n",
    "    noise_sigma=noise_sig,\n",
    "    draw_method=\"fft\",\n",
    "    verbose=True,\n",
    ")"
   ]
  },
  {
   "cell_type": "markdown",
   "id": "a219dc53",
   "metadata": {},
   "source": [
    "### Show output"
   ]
  },
  {
   "cell_type": "code",
   "execution_count": 7,
   "id": "c30eb919",
   "metadata": {},
   "outputs": [
    {
     "data": {
      "text/plain": [
       "<matplotlib.colorbar.Colorbar at 0x330a15f40>"
      ]
     },
     "execution_count": 7,
     "metadata": {},
     "output_type": "execute_result"
    },
    {
     "data": {
      "image/png": "[encoded data removed]",
      "text/plain": [
       "<Figure size 800x800 with 2 Axes>"
      ]
     },
     "metadata": {},
     "output_type": "display_data"
    }
   ],
   "source": [
    "img = simu_dict[\"Y106\"][0][\"sci\"][f\"shear_{g1_in}_{g2_in}\"]\n",
    "m = np.mean(img)\n",
    "s = np.std(img)\n",
    "plt.figure(figsize=(8, 8))\n",
    "plt.imshow(img, origin=\"lower\", cmap=\"grey\", vmin=max(m-3*s, np.min(m)), vmax=m+10*s)\n",
    "plt.colorbar()"
   ]
  },
  {
   "cell_type": "code",
   "execution_count": null,
   "id": "5c5a6564",
   "metadata": {},
   "outputs": [],
   "source": []
  }
 ],
 "metadata": {
  "kernelspec": {
   "display_name": "roman_sim",
   "language": "python",
   "name": "python3"
  },
  "language_info": {
   "codemirror_mode": {
    "name": "ipython",
    "version": 3
   },
   "file_extension": ".py",
   "mimetype": "text/x-python",
   "name": "python",
   "nbconvert_exporter": "python",
   "pygments_lexer": "ipython3",
   "version": "3.12.9"
  }
 },
 "nbformat": 4,
 "nbformat_minor": 5
}
