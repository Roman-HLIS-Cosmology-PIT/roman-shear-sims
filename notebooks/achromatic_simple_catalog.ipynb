{
 "cells": [
  {
   "cell_type": "code",
   "execution_count": 1,
   "id": "2c4eeb0d",
   "metadata": {},
   "outputs": [],
   "source": [
    "import numpy as np\n",
    "\n",
    "from roman_shear_sims.sim import make_sim\n",
    "from roman_shear_sims.catalog import SimpleGalaxyCatalog\n",
    "from roman_shear_sims.psf_makers import PSFMaker"
   ]
  },
  {
   "cell_type": "code",
   "execution_count": 2,
   "id": "ae8da092",
   "metadata": {},
   "outputs": [],
   "source": [
    "import matplotlib.pyplot as plt"
   ]
  },
  {
   "cell_type": "code",
   "execution_count": 3,
   "id": "5e39c268",
   "metadata": {},
   "outputs": [],
   "source": [
    "seed = 4242\n",
    "rng = np.random.RandomState(seed)\n",
    "\n",
    "simu_size = 301\n",
    "img_size = 251\n",
    "bands = [\"Y106\", \"J129\", \"H158\"]\n",
    "gal_type = \"exp\"\n",
    "psf_type = \"roman\"\n",
    "layout_kind = \"grid\"\n",
    "chromatic=False\n",
    "spacing = 4.\n",
    "buff = 50\n",
    "noise_sig = 1e-3\n",
    "n_gal = None\n",
    "gal_mag = 25\n",
    "gal_hlr = 0.2\n",
    "\n",
    "g1_in = 0.02\n",
    "g2_in = 0.0\n",
    "\n",
    "n_epochs = 1\n",
    "\n",
    "exp_time=107*6\n",
    "oversamp_factor=6"
   ]
  },
  {
   "cell_type": "markdown",
   "id": "8253c51c",
   "metadata": {},
   "source": [
    "### Set Galaxy Catalog"
   ]
  },
  {
   "cell_type": "code",
   "execution_count": 4,
   "id": "91965929",
   "metadata": {},
   "outputs": [],
   "source": [
    "galaxy_catalog = SimpleGalaxyCatalog(\n",
    "    simu_size,\n",
    "    seed,\n",
    "    gal_type=gal_type,\n",
    "    mag=gal_mag,\n",
    "    hlr=gal_hlr,\n",
    "    layout_kind=layout_kind,\n",
    "    exp_time=exp_time,\n",
    "    spacing=spacing,\n",
    "    buffer=buff,\n",
    "    n_gal=n_gal,\n",
    "    chromatic=chromatic,\n",
    ")"
   ]
  },
  {
   "cell_type": "markdown",
   "id": "60b76bb1",
   "metadata": {},
   "source": [
    "### Set the PSF"
   ]
  },
  {
   "cell_type": "code",
   "execution_count": 5,
   "id": "4688b969",
   "metadata": {},
   "outputs": [],
   "source": [
    "psf_maker = PSFMaker(\n",
    "    psf_type=psf_type,\n",
    "    chromatic=chromatic,\n",
    ")"
   ]
  },
  {
   "cell_type": "markdown",
   "id": "9922e05b",
   "metadata": {},
   "source": [
    "### Run the simulation"
   ]
  },
  {
   "cell_type": "code",
   "execution_count": 6,
   "id": "e20f20cb",
   "metadata": {},
   "outputs": [
    {
     "data": {
      "application/vnd.jupyter.widget-view+json": {
       "model_id": "734487647ded4647a8fa27313c86f675",
       "version_major": 2,
       "version_minor": 0
      },
      "text/plain": [
       "Band loop:   0%|          | 0/3 [00:00<?, ?it/s]"
      ]
     },
     "metadata": {},
     "output_type": "display_data"
    },
    {
     "data": {
      "application/vnd.jupyter.widget-view+json": {
       "model_id": "1f4dedb99ce643459ad4a89615989e27",
       "version_major": 2,
       "version_minor": 0
      },
      "text/plain": [
       "Epoch loop:   0%|          | 0/1 [00:00<?, ?it/s]"
      ]
     },
     "metadata": {},
     "output_type": "display_data"
    },
    {
     "data": {
      "application/vnd.jupyter.widget-view+json": {
       "model_id": "fb756374a2d4423aa5cd5652b974fc28",
       "version_major": 2,
       "version_minor": 0
      },
      "text/plain": [
       "Obj loop:   0%|          | 0/36 [00:00<?, ?it/s]"
      ]
     },
     "metadata": {},
     "output_type": "display_data"
    },
    {
     "data": {
      "application/vnd.jupyter.widget-view+json": {
       "model_id": "66feba01ecb04363906de8d4e2506ed7",
       "version_major": 2,
       "version_minor": 0
      },
      "text/plain": [
       "Epoch loop:   0%|          | 0/1 [00:00<?, ?it/s]"
      ]
     },
     "metadata": {},
     "output_type": "display_data"
    },
    {
     "data": {
      "application/vnd.jupyter.widget-view+json": {
       "model_id": "9962bb6587454565a8f5e3cd84aa6b46",
       "version_major": 2,
       "version_minor": 0
      },
      "text/plain": [
       "Obj loop:   0%|          | 0/36 [00:00<?, ?it/s]"
      ]
     },
     "metadata": {},
     "output_type": "display_data"
    },
    {
     "data": {
      "application/vnd.jupyter.widget-view+json": {
       "model_id": "b4394714a43e4347a730de628bb9c6b0",
       "version_major": 2,
       "version_minor": 0
      },
      "text/plain": [
       "Epoch loop:   0%|          | 0/1 [00:00<?, ?it/s]"
      ]
     },
     "metadata": {},
     "output_type": "display_data"
    },
    {
     "data": {
      "application/vnd.jupyter.widget-view+json": {
       "model_id": "e40c8b613b9242ed9ced42489372e1aa",
       "version_major": 2,
       "version_minor": 0
      },
      "text/plain": [
       "Obj loop:   0%|          | 0/36 [00:00<?, ?it/s]"
      ]
     },
     "metadata": {},
     "output_type": "display_data"
    }
   ],
   "source": [
    "simu_dict = make_sim(\n",
    "    rng,\n",
    "    galaxy_catalog,\n",
    "    psf_maker,\n",
    "    n_epochs=n_epochs,\n",
    "    exp_time=exp_time,\n",
    "    cell_size_pix=simu_size,\n",
    "    oversamp_factor=oversamp_factor,\n",
    "    bands=bands,\n",
    "    g1=g1_in,\n",
    "    g2=g2_in,\n",
    "    chromatic=chromatic,\n",
    "    simple_noise=True,\n",
    "    noise_sigma=noise_sig,\n",
    "    draw_method=\"fft\",\n",
    "    verbose=True,\n",
    ")"
   ]
  },
  {
   "cell_type": "markdown",
   "id": "4450cc65",
   "metadata": {},
   "source": [
    "### Show output"
   ]
  },
  {
   "cell_type": "code",
   "execution_count": 7,
   "id": "aa0a89c2",
   "metadata": {},
   "outputs": [
    {
     "data": {
      "text/plain": [
       "<matplotlib.colorbar.Colorbar at 0x3334dfe90>"
      ]
     },
     "execution_count": 7,
     "metadata": {},
     "output_type": "execute_result"
    },
    {
     "data": {
      "image/png": "[encoded data removed]",
      "text/plain": [
       "<Figure size 800x800 with 2 Axes>"
      ]
     },
     "metadata": {},
     "output_type": "display_data"
    }
   ],
   "source": [
    "plt.figure(figsize=(8, 8))\n",
    "plt.imshow(simu_dict[\"Y106\"][0][\"sci\"][f\"shear_{g1_in}_{g2_in}\"], origin=\"lower\", cmap=\"gray\")\n",
    "plt.colorbar()"
   ]
  },
  {
   "cell_type": "code",
   "execution_count": null,
   "id": "f858c923",
   "metadata": {},
   "outputs": [],
   "source": []
  }
 ],
 "metadata": {
  "kernelspec": {
   "display_name": "roman_sim",
   "language": "python",
   "name": "python3"
  },
  "language_info": {
   "codemirror_mode": {
    "name": "ipython",
    "version": 3
   },
   "file_extension": ".py",
   "mimetype": "text/x-python",
   "name": "python",
   "nbconvert_exporter": "python",
   "pygments_lexer": "ipython3",
   "version": "3.12.9"
  }
 },
 "nbformat": 4,
 "nbformat_minor": 5
}
