{
 "cells": [
  {
   "cell_type": "code",
   "execution_count": 1,
   "id": "2c4eeb0d",
   "metadata": {},
   "outputs": [],
   "source": [
    "import numpy as np\n",
    "\n",
    "from roman_shear_sims.sim import make_sim\n",
    "from roman_shear_sims.catalog import GalaxyCatalog\n",
    "from roman_shear_sims.psf_makers import PSFMaker"
   ]
  },
  {
   "cell_type": "code",
   "execution_count": 2,
   "id": "ae8da092",
   "metadata": {},
   "outputs": [],
   "source": [
    "import matplotlib.pyplot as plt"
   ]
  },
  {
   "cell_type": "code",
   "execution_count": 3,
   "id": "5e39c268",
   "metadata": {},
   "outputs": [],
   "source": [
    "seed = 4242\n",
    "rng = np.random.RandomState(seed)\n",
    "\n",
    "simu_size = 301\n",
    "img_size = 251\n",
    "bands = [\"Y106\", \"J129\", \"H158\"]\n",
    "psf_type = \"roman\"\n",
    "layout_kind = \"grid\"\n",
    "chromatic=False\n",
    "spacing = 4.\n",
    "buff = 50\n",
    "noise_sig = 1e-3\n",
    "n_gal = None\n",
    "gal_mag = 25\n",
    "gal_hlr = 0.2\n",
    "flux_range = [100, 1_00]\n",
    "\n",
    "g1_in = 0.02\n",
    "g2_in = 0.0\n",
    "\n",
    "n_epochs = 1\n",
    "\n",
    "exp_time=107*6\n",
    "oversamp_factor=6"
   ]
  },
  {
   "cell_type": "markdown",
   "id": "8253c51c",
   "metadata": {},
   "source": [
    "### Set Galaxy Catalog"
   ]
  },
  {
   "cell_type": "code",
   "execution_count": 4,
   "id": "91965929",
   "metadata": {},
   "outputs": [],
   "source": [
    "galaxy_catalog = GalaxyCatalog(\n",
    "    simu_size,\n",
    "    seed,\n",
    "    flux_range=flux_range,\n",
    "    layout_kind=layout_kind,\n",
    "    exp_time=exp_time,\n",
    "    spacing=spacing,\n",
    "    buffer=buff,\n",
    "    n_gal=n_gal,\n",
    "    chromatic=chromatic,\n",
    ")"
   ]
  },
  {
   "cell_type": "markdown",
   "id": "60b76bb1",
   "metadata": {},
   "source": [
    "### Set the PSF"
   ]
  },
  {
   "cell_type": "code",
   "execution_count": 5,
   "id": "4688b969",
   "metadata": {},
   "outputs": [],
   "source": [
    "psf_maker = PSFMaker(\n",
    "    psf_type=psf_type,\n",
    "    chromatic=chromatic,\n",
    ")"
   ]
  },
  {
   "cell_type": "markdown",
   "id": "9922e05b",
   "metadata": {},
   "source": [
    "### Run the simulation"
   ]
  },
  {
   "cell_type": "code",
   "execution_count": 6,
   "id": "e20f20cb",
   "metadata": {},
   "outputs": [
    {
     "data": {
      "application/vnd.jupyter.widget-view+json": {
       "model_id": "6a031c3216144b0a8aa0fd020eb297d7",
       "version_major": 2,
       "version_minor": 0
      },
      "text/plain": [
       "Band loop:   0%|          | 0/3 [00:00<?, ?it/s]"
      ]
     },
     "metadata": {},
     "output_type": "display_data"
    },
    {
     "data": {
      "application/vnd.jupyter.widget-view+json": {
       "model_id": "8d0760571d9f46ffa069d73286af6bf8",
       "version_major": 2,
       "version_minor": 0
      },
      "text/plain": [
       "Epoch loop:   0%|          | 0/1 [00:00<?, ?it/s]"
      ]
     },
     "metadata": {},
     "output_type": "display_data"
    },
    {
     "data": {
      "application/vnd.jupyter.widget-view+json": {
       "model_id": "dc81f977e8844905bfa4bece553213a8",
       "version_major": 2,
       "version_minor": 0
      },
      "text/plain": [
       "Obj loop:   0%|          | 0/36 [00:00<?, ?it/s]"
      ]
     },
     "metadata": {},
     "output_type": "display_data"
    },
    {
     "data": {
      "application/vnd.jupyter.widget-view+json": {
       "model_id": "cc56801ccd714454b52361620f79c603",
       "version_major": 2,
       "version_minor": 0
      },
      "text/plain": [
       "Epoch loop:   0%|          | 0/1 [00:00<?, ?it/s]"
      ]
     },
     "metadata": {},
     "output_type": "display_data"
    },
    {
     "data": {
      "application/vnd.jupyter.widget-view+json": {
       "model_id": "2d2eb1edd3dc4571989154b93cce5c48",
       "version_major": 2,
       "version_minor": 0
      },
      "text/plain": [
       "Obj loop:   0%|          | 0/36 [00:00<?, ?it/s]"
      ]
     },
     "metadata": {},
     "output_type": "display_data"
    },
    {
     "data": {
      "application/vnd.jupyter.widget-view+json": {
       "model_id": "f7639716910b41f4b90f49fac5641fd9",
       "version_major": 2,
       "version_minor": 0
      },
      "text/plain": [
       "Epoch loop:   0%|          | 0/1 [00:00<?, ?it/s]"
      ]
     },
     "metadata": {},
     "output_type": "display_data"
    },
    {
     "data": {
      "application/vnd.jupyter.widget-view+json": {
       "model_id": "bf6637542ff6429aa894e3382bdcadbf",
       "version_major": 2,
       "version_minor": 0
      },
      "text/plain": [
       "Obj loop:   0%|          | 0/36 [00:00<?, ?it/s]"
      ]
     },
     "metadata": {},
     "output_type": "display_data"
    }
   ],
   "source": [
    "simu_dict = make_sim(\n",
    "    rng,\n",
    "    galaxy_catalog,\n",
    "    psf_maker,\n",
    "    n_epochs=n_epochs,\n",
    "    exp_time=exp_time,\n",
    "    cell_size_pix=simu_size,\n",
    "    oversamp_factor=oversamp_factor,\n",
    "    bands=bands,\n",
    "    g1=g1_in,\n",
    "    g2=g2_in,\n",
    "    chromatic=chromatic,\n",
    "    simple_noise=True,\n",
    "    noise_sigma=noise_sig,\n",
    "    draw_method=\"fft\",\n",
    "    verbose=True,\n",
    ")"
   ]
  },
  {
   "cell_type": "markdown",
   "id": "4450cc65",
   "metadata": {},
   "source": [
    "### Show output"
   ]
  },
  {
   "cell_type": "code",
   "execution_count": 7,
   "id": "aa0a89c2",
   "metadata": {},
   "outputs": [
    {
     "data": {
      "text/plain": [
       "<matplotlib.colorbar.Colorbar at 0x315dec320>"
      ]
     },
     "execution_count": 7,
     "metadata": {},
     "output_type": "execute_result"
    },
    {
     "data": {
      "image/png": "[encoded data removed]",
      "text/plain": [
       "<Figure size 800x800 with 2 Axes>"
      ]
     },
     "metadata": {},
     "output_type": "display_data"
    }
   ],
   "source": [
    "img = simu_dict[\"Y106\"][0][\"sci\"][f\"shear_{g1_in}_{g2_in}\"]\n",
    "m = np.mean(img)\n",
    "s = np.std(img)\n",
    "plt.figure(figsize=(8, 8))\n",
    "plt.imshow(img, origin=\"lower\", cmap=\"gray\", vmin=max(m-3*s, np.min(m)), vmax=m+10*s)\n",
    "plt.colorbar()"
   ]
  },
  {
   "cell_type": "code",
   "execution_count": null,
   "id": "22d20d22",
   "metadata": {},
   "outputs": [],
   "source": []
  }
 ],
 "metadata": {
  "kernelspec": {
   "display_name": "roman_sim",
   "language": "python",
   "name": "python3"
  },
  "language_info": {
   "codemirror_mode": {
    "name": "ipython",
    "version": 3
   },
   "file_extension": ".py",
   "mimetype": "text/x-python",
   "name": "python",
   "nbconvert_exporter": "python",
   "pygments_lexer": "ipython3",
   "version": "3.12.9"
  }
 },
 "nbformat": 4,
 "nbformat_minor": 5
}
